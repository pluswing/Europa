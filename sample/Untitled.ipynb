{
 "cells": [
  {
   "cell_type": "code",
   "execution_count": 6,
   "metadata": {},
   "outputs": [],
   "source": [
    "contents = open(\"index.html\").read()"
   ]
  },
  {
   "cell_type": "code",
   "execution_count": 7,
   "metadata": {},
   "outputs": [
    {
     "data": {
      "text/plain": [
       "['<!DOCTYPE html>',\n",
       " '<html>',\n",
       " '',\n",
       " '<head>',\n",
       " '    <meta charset=\"UTF-8\">',\n",
       " '    <title>Hello World!</title>',\n",
       " '</head>',\n",
       " '',\n",
       " '<body>',\n",
       " '    <h1>Hello World!</h1>',\n",
       " '    We are using node',\n",
       " '    <script>document.write(process.versions.node)</script>,',\n",
       " '    Chrome',\n",
       " '    <script>document.write(process.versions.chrome)</script>,',\n",
       " '    and Electron',\n",
       " '    <script>document.write(process.versions.electron)</script>.',\n",
       " '</body>',\n",
       " '',\n",
       " '</html>']"
      ]
     },
     "execution_count": 7,
     "metadata": {},
     "output_type": "execute_result"
    }
   ],
   "source": [
    "contents.splitlines()"
   ]
  },
  {
   "cell_type": "code",
   "execution_count": null,
   "metadata": {},
   "outputs": [],
   "source": []
  },
  {
   "cell_type": "code",
   "execution_count": null,
   "metadata": {},
   "outputs": [],
   "source": []
  }
 ],
 "metadata": {
  "kernelspec": {
   "display_name": "Python 3",
   "language": "python",
   "name": "python3"
  },
  "language_info": {
   "codemirror_mode": {
    "name": "ipython",
    "version": 3
   },
   "file_extension": ".py",
   "mimetype": "text/x-python",
   "name": "python",
   "nbconvert_exporter": "python",
   "pygments_lexer": "ipython3",
   "version": "3.7.4"
  }
 },
 "nbformat": 4,
 "nbformat_minor": 2
}
