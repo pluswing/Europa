{
 "cells": [
  {
   "cell_type": "code",
   "execution_count": 1,
   "metadata": {},
   "outputs": [],
   "source": [
    "contents = open(\"../index.html\").read()"
   ]
  },
  {
   "cell_type": "code",
   "execution_count": 2,
   "metadata": {},
   "outputs": [
    {
     "data": {
      "text/plain": [
       "['<!DOCTYPE html>',\n",
       " '<html>',\n",
       " '    <head>',\n",
       " '        <meta charset=\"UTF-8\">',\n",
       " '        <title>Europa</title>',\n",
       " '        <style>',\n",
       " '            .wrap {',\n",
       " '                width: 100%;',\n",
       " '                height: 500px;',\n",
       " '                position: relative;',\n",
       " '            }',\n",
       " '            .wrap .inner {',\n",
       " '                width: 50%;',\n",
       " '                height: 50%;',\n",
       " '                position: absolute;',\n",
       " '                text-align: center;',\n",
       " '                top: 0;',\n",
       " '                left: 0;',\n",
       " '                right: 0;',\n",
       " '                bottom: 0;',\n",
       " '                margin: auto;',\n",
       " '            }',\n",
       " '            .wrap .logo {',\n",
       " '                width:256px;',\n",
       " '                height:256px;',\n",
       " '            }',\n",
       " '            .wrap .text {',\n",
       " '                margin-top:20px;',\n",
       " '            }',\n",
       " '        </style>',\n",
       " '    </head>',\n",
       " '',\n",
       " '    <body>',\n",
       " '        <div class=\"wrap\">',\n",
       " '            <div class=\"inner\">',\n",
       " '',\n",
       " '                <img class=\"logo\"',\n",
       " '                    src=\"resources/icons//jupyter_app.iconset/icon_512x512.png\"',\n",
       " '                    />',\n",
       " '                <br/>',\n",
       " '                    <div class=\"text\">',\n",
       " '                        please drag&drop .ipynb file to app icon.',\n",
       " '                    </div>',\n",
       " '                </div>',\n",
       " '            </div>',\n",
       " '        </body>',\n",
       " '',\n",
       " '    </html>']"
      ]
     },
     "execution_count": 2,
     "metadata": {},
     "output_type": "execute_result"
    }
   ],
   "source": [
    "contents.splitlines()"
   ]
  },
  {
   "cell_type": "code",
   "execution_count": null,
   "metadata": {},
   "outputs": [],
   "source": []
  },
  {
   "cell_type": "code",
   "execution_count": null,
   "metadata": {},
   "outputs": [],
   "source": []
  }
 ],
 "metadata": {
  "kernelspec": {
   "display_name": "Python 3",
   "language": "python",
   "name": "python3"
  },
  "language_info": {
   "codemirror_mode": {
    "name": "ipython",
    "version": 3
   },
   "file_extension": ".py",
   "mimetype": "text/x-python",
   "name": "python",
   "nbconvert_exporter": "python",
   "pygments_lexer": "ipython3",
   "version": "3.7.4"
  }
 },
 "nbformat": 4,
 "nbformat_minor": 2
}
